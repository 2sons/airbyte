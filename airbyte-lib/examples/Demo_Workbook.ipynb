{
 "cells": [
  {
   "cell_type": "markdown",
   "metadata": {},
   "source": [
    "# AirbyteLib Interactive Demo\n"
   ]
  },
  {
   "cell_type": "markdown",
   "metadata": {},
   "source": [
    "## AirbyteLib Installation\n"
   ]
  },
  {
   "cell_type": "markdown",
   "metadata": {},
   "source": [
    "Quick test to make sure the notebook's kernel and virtualenv are working:\n"
   ]
  },
  {
   "cell_type": "code",
   "execution_count": 1,
   "metadata": {},
   "outputs": [],
   "source": [
    "import jupyter"
   ]
  },
  {
   "cell_type": "markdown",
   "metadata": {},
   "source": [
    "Install AirbyteLib from parent directory:\n",
    "\n",
    "```bash\n",
    "cd airbyte-lib/examples\n",
    "poetry install\n",
    "```\n"
   ]
  },
  {
   "cell_type": "markdown",
   "metadata": {},
   "source": [
    "source = ab.get_connector(\n",
    "\"source-spacex-api\",\n",
    "config={\"id\": \"605b4b6aaa5433645e37d03f\"},\n",
    "install_if_missing=True,\n",
    ")\n"
   ]
  },
  {
   "cell_type": "code",
   "execution_count": 9,
   "metadata": {},
   "outputs": [],
   "source": [
    "import airbyte_lib as ab"
   ]
  },
  {
   "cell_type": "code",
   "execution_count": 4,
   "metadata": {},
   "outputs": [],
   "source": [
    "source = ab.get_connector(\n",
    "    \"source-faker\",\n",
    "    pip_url=\"../../airbyte-integrations/connectors/source-faker\",\n",
    "    config={\n",
    "        \"count\": 10,  # number of users to generate data for\n",
    "        \"seed\": 123,\n",
    "    },\n",
    "    install_if_missing=True,\n",
    ")"
   ]
  },
  {
   "cell_type": "markdown",
   "metadata": {},
   "source": [
    "Check source connector config:\n"
   ]
  },
  {
   "cell_type": "code",
   "execution_count": 5,
   "metadata": {},
   "outputs": [],
   "source": [
    "source.check()"
   ]
  },
  {
   "cell_type": "markdown",
   "metadata": {},
   "source": [
    "Create cache:\n"
   ]
  },
  {
   "cell_type": "code",
   "execution_count": 12,
   "metadata": {},
   "outputs": [
    {
     "name": "stdout",
     "output_type": "stream",
     "text": [
      "2024-01-02 21:05:50,368 INFO sqlalchemy.engine.Engine select current_schema()\n",
      "2024-01-02 21:05:50,369 INFO sqlalchemy.engine.Engine [raw sql] ()\n",
      "2024-01-02 21:05:50,371 INFO sqlalchemy.engine.Engine BEGIN (implicit)\n",
      "2024-01-02 21:05:50,372 INFO sqlalchemy.engine.Engine \n",
      "            SELECT database_name, schema_name AS nspname\n",
      "            FROM duckdb_schemas()\n",
      "            WHERE schema_name NOT LIKE 'pg\\_%' ESCAPE '\\'\n",
      "            ORDER BY database_name, nspname\n",
      "            \n",
      "2024-01-02 21:05:50,372 INFO sqlalchemy.engine.Engine [dialect duckdb+duckdb_engine does not support caching 0.00108s] ()\n",
      "2024-01-02 21:05:50,374 INFO sqlalchemy.engine.Engine ROLLBACK\n"
     ]
    }
   ],
   "source": [
    "from airbyte_lib.caches import DuckDBCache, DuckDBCacheConfig\n",
    "\n",
    "cache = DuckDBCache(\n",
    "    config=DuckDBCacheConfig(\n",
    "        db_path=\"./.output/cache.db\",\n",
    "    )\n",
    ")"
   ]
  },
  {
   "cell_type": "markdown",
   "metadata": {},
   "source": [
    "Run sync:\n"
   ]
  },
  {
   "cell_type": "code",
   "execution_count": 13,
   "metadata": {},
   "outputs": [
    {
     "ename": "ValueError",
     "evalue": "Unexpected message type: Type.LOG",
     "output_type": "error",
     "traceback": [
      "\u001b[0;31m---------------------------------------------------------------------------\u001b[0m",
      "\u001b[0;31mValueError\u001b[0m                                Traceback (most recent call last)",
      "Cell \u001b[0;32mIn[13], line 1\u001b[0m\n\u001b[0;32m----> 1\u001b[0m \u001b[43msource\u001b[49m\u001b[38;5;241;43m.\u001b[39;49m\u001b[43mread_all\u001b[49m\u001b[43m(\u001b[49m\u001b[43mcache\u001b[49m\u001b[38;5;241;43m=\u001b[39;49m\u001b[43mcache\u001b[49m\u001b[43m)\u001b[49m\n",
      "File \u001b[0;32m~/Source/airbyte/airbyte-lib/airbyte_lib/source.py:290\u001b[0m, in \u001b[0;36mSource.read_all\u001b[0;34m(self, cache)\u001b[0m\n\u001b[1;32m    287\u001b[0m \u001b[38;5;28;01mif\u001b[39;00m cache \u001b[38;5;129;01mis\u001b[39;00m \u001b[38;5;28;01mNone\u001b[39;00m:\n\u001b[1;32m    288\u001b[0m     cache \u001b[38;5;241m=\u001b[39m _new_default_cache()\n\u001b[0;32m--> 290\u001b[0m \u001b[43mcache\u001b[49m\u001b[38;5;241;43m.\u001b[39;49m\u001b[43mprocess_airbyte_messages\u001b[49m\u001b[43m(\u001b[49m\u001b[38;5;28;43mself\u001b[39;49m\u001b[38;5;241;43m.\u001b[39;49m\u001b[43m_tally_records\u001b[49m\u001b[43m(\u001b[49m\u001b[38;5;28;43mself\u001b[39;49m\u001b[38;5;241;43m.\u001b[39;49m\u001b[43m_read\u001b[49m\u001b[43m(\u001b[49m\u001b[43m)\u001b[49m\u001b[43m)\u001b[49m\u001b[43m)\u001b[49m\n\u001b[1;32m    292\u001b[0m \u001b[38;5;28;01mreturn\u001b[39;00m SyncResult(\n\u001b[1;32m    293\u001b[0m     processed_records\u001b[38;5;241m=\u001b[39m\u001b[38;5;28mself\u001b[39m\u001b[38;5;241m.\u001b[39m_processed_records,\n\u001b[1;32m    294\u001b[0m     cache\u001b[38;5;241m=\u001b[39mcache,\n\u001b[1;32m    295\u001b[0m )\n",
      "File \u001b[0;32m~/Source/airbyte/airbyte-lib/airbyte_lib/processors.py:157\u001b[0m, in \u001b[0;36mRecordProcessor.process_airbyte_messages\u001b[0;34m(self, messages, max_batch_size)\u001b[0m\n\u001b[1;32m    154\u001b[0m             \u001b[38;5;28mself\u001b[39m\u001b[38;5;241m.\u001b[39m_pending_state_messages[stream_name]\u001b[38;5;241m.\u001b[39mappend(state_msg)\n\u001b[1;32m    156\u001b[0m     \u001b[38;5;28;01melse\u001b[39;00m:\n\u001b[0;32m--> 157\u001b[0m         \u001b[38;5;28;01mraise\u001b[39;00m \u001b[38;5;167;01mValueError\u001b[39;00m(\u001b[38;5;124mf\u001b[39m\u001b[38;5;124m\"\u001b[39m\u001b[38;5;124mUnexpected message type: \u001b[39m\u001b[38;5;132;01m{\u001b[39;00mmessage\u001b[38;5;241m.\u001b[39mtype\u001b[38;5;132;01m}\u001b[39;00m\u001b[38;5;124m\"\u001b[39m)\n\u001b[1;32m    159\u001b[0m \u001b[38;5;28;01mfor\u001b[39;00m stream_name, batch \u001b[38;5;129;01min\u001b[39;00m stream_batches\u001b[38;5;241m.\u001b[39mitems():\n\u001b[1;32m    160\u001b[0m     \u001b[38;5;28;01mif\u001b[39;00m batch:\n",
      "\u001b[0;31mValueError\u001b[0m: Unexpected message type: Type.LOG"
     ]
    }
   ],
   "source": [
    "# FIXME: Resolve error: \"ValueError: Unexpected message type: Type.LOG\"\n",
    "source.read_all(cache=cache)"
   ]
  }
 ],
 "metadata": {
  "kernelspec": {
   "display_name": "Python 3",
   "language": "python",
   "name": "python3"
  },
  "language_info": {
   "codemirror_mode": {
    "name": "ipython",
    "version": 3
   },
   "file_extension": ".py",
   "mimetype": "text/x-python",
   "name": "python",
   "nbconvert_exporter": "python",
   "pygments_lexer": "ipython3",
   "version": "3.10.12"
  }
 },
 "nbformat": 4,
 "nbformat_minor": 2
}
